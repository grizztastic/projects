{
  "nbformat": 4,
  "nbformat_minor": 0,
  "metadata": {
    "colab": {
      "name": "HW1P2IDL.ipynb",
      "provenance": [],
      "collapsed_sections": [],
      "toc_visible": true,
      "machine_shape": "hm"
    },
    "kernelspec": {
      "name": "python3",
      "display_name": "Python 3"
    },
    "accelerator": "GPU"
  },
  "cells": [
    {
      "cell_type": "code",
      "metadata": {
        "id": "_RTKKby9GGO2",
        "colab_type": "code",
        "colab": {}
      },
      "source": [
        "from google.colab import files"
      ],
      "execution_count": 0,
      "outputs": []
    },
    {
      "cell_type": "code",
      "metadata": {
        "id": "zpXz_V68GRzR",
        "colab_type": "code",
        "colab": {}
      },
      "source": [
        "!pip install -q kaggle"
      ],
      "execution_count": 0,
      "outputs": []
    },
    {
      "cell_type": "code",
      "metadata": {
        "id": "kIKuiw4YGVS5",
        "colab_type": "code",
        "colab": {}
      },
      "source": [
        "ls -a"
      ],
      "execution_count": 0,
      "outputs": []
    },
    {
      "cell_type": "code",
      "metadata": {
        "id": "E0wSc7e4GXtq",
        "colab_type": "code",
        "colab": {}
      },
      "source": [
        "mkdir .kaggle"
      ],
      "execution_count": 0,
      "outputs": []
    },
    {
      "cell_type": "code",
      "metadata": {
        "id": "mpxPqb0aGaQJ",
        "colab_type": "code",
        "outputId": "ee43008b-a1bd-4ab3-dfd5-5cefa4dc8d26",
        "colab": {
          "resources": {
            "http://localhost:8080/nbextensions/google.colab/files.js": {
              "data": "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",
              "ok": true,
              "headers": [
                [
                  "content-type",
                  "application/javascript"
                ]
              ],
              "status": 200,
              "status_text": ""
            }
          },
          "base_uri": "https://localhost:8080/",
          "height": 71
        }
      },
      "source": [
        "uploaded = files.upload()"
      ],
      "execution_count": 0,
      "outputs": [
        {
          "output_type": "display_data",
          "data": {
            "text/html": [
              "\n",
              "     <input type=\"file\" id=\"files-d94e976a-df82-4eb2-a968-3ab3f8e91296\" name=\"files[]\" multiple disabled />\n",
              "     <output id=\"result-d94e976a-df82-4eb2-a968-3ab3f8e91296\">\n",
              "      Upload widget is only available when the cell has been executed in the\n",
              "      current browser session. Please rerun this cell to enable.\n",
              "      </output>\n",
              "      <script src=\"/nbextensions/google.colab/files.js\"></script> "
            ],
            "text/plain": [
              "<IPython.core.display.HTML object>"
            ]
          },
          "metadata": {
            "tags": []
          }
        },
        {
          "output_type": "stream",
          "text": [
            "Saving kaggle.json to kaggle.json\n"
          ],
          "name": "stdout"
        }
      ]
    },
    {
      "cell_type": "code",
      "metadata": {
        "id": "Y5aXu50GGe92",
        "colab_type": "code",
        "colab": {}
      },
      "source": [
        "mv kaggle.json .kaggle/"
      ],
      "execution_count": 0,
      "outputs": []
    },
    {
      "cell_type": "code",
      "metadata": {
        "id": "-eHxmrfqGmbi",
        "colab_type": "code",
        "colab": {}
      },
      "source": [
        "cd content/"
      ],
      "execution_count": 0,
      "outputs": []
    },
    {
      "cell_type": "code",
      "metadata": {
        "id": "3LMyOBegGyWr",
        "colab_type": "code",
        "outputId": "c366510d-97ba-4664-998b-76eda1ade89e",
        "colab": {
          "base_uri": "https://localhost:8080/",
          "height": 377
        }
      },
      "source": [
        "!kaggle competitions download -c 11785-spring2020-hw1p2-slack2"
      ],
      "execution_count": 0,
      "outputs": [
        {
          "output_type": "stream",
          "text": [
            "Warning: Your Kaggle API key is readable by other users on this system! To fix this, you can run 'chmod 600 /root/.kaggle/kaggle.json'\n",
            "Warning: Looks like you're using an outdated API Version, please consider updating (server 1.5.6 / client 1.5.4)\n",
            "Downloading test.npy.zip to /content\n",
            " 82% 63.0M/76.8M [00:00<00:00, 57.0MB/s]\n",
            "100% 76.8M/76.8M [00:00<00:00, 113MB/s] \n",
            "Downloading dev.npy.zip to /content\n",
            " 98% 227M/232M [00:02<00:00, 105MB/s] \n",
            "100% 232M/232M [00:02<00:00, 110MB/s]\n",
            "Downloading train_labels.npy.zip to /content\n",
            " 60% 5.00M/8.40M [00:00<00:00, 48.2MB/s]\n",
            "100% 8.40M/8.40M [00:00<00:00, 53.3MB/s]\n",
            "Downloading dev_labels.npy.zip to /content\n",
            "  0% 0.00/381k [00:00<?, ?B/s]\n",
            "100% 381k/381k [00:00<00:00, 118MB/s]\n",
            "Downloading train.npy.zip to /content\n",
            "100% 5.15G/5.17G [01:48<00:00, 95.1MB/s]\n",
            "100% 5.17G/5.17G [01:48<00:00, 51.0MB/s]\n",
            "Downloading hw1p2_sample_submission.csv.zip to /content\n",
            "  0% 0.00/756k [00:00<?, ?B/s]\n",
            "100% 756k/756k [00:00<00:00, 105MB/s]\n"
          ],
          "name": "stdout"
        }
      ]
    },
    {
      "cell_type": "code",
      "metadata": {
        "id": "b5GCL7DwG1p2",
        "colab_type": "code",
        "outputId": "f14efe7d-308c-4bfa-cb93-2747f72f5622",
        "colab": {
          "base_uri": "https://localhost:8080/",
          "height": 187
        }
      },
      "source": [
        "!unzip dev.npy.zip\n",
        "!unzip dev_labels.npy.zip\n",
        "!unzip test.npy.zip\n",
        "!unzip train.npy.zip\n",
        "!unzip train_labels.npy.zip"
      ],
      "execution_count": 0,
      "outputs": [
        {
          "output_type": "stream",
          "text": [
            "Archive:  dev.npy.zip\n",
            "  inflating: dev.npy                 \n",
            "Archive:  dev_labels.npy.zip\n",
            "  inflating: dev_labels.npy          \n",
            "Archive:  test.npy.zip\n",
            "  inflating: test.npy                \n",
            "Archive:  train.npy.zip\n",
            "  inflating: train.npy               \n",
            "Archive:  train_labels.npy.zip\n",
            "  inflating: train_labels.npy        \n"
          ],
          "name": "stdout"
        }
      ]
    },
    {
      "cell_type": "code",
      "metadata": {
        "id": "Z1Lx3Ty0Hf1w",
        "colab_type": "code",
        "colab": {}
      },
      "source": [
        "!rm -rf dev.npy.zip\n",
        "!rm -rf dev_labels.npy.zip\n",
        "!rm -rf test.npy.zip\n",
        "!rm -rf train.npy.zip\n",
        "!rm -rf train_labels.npy.zip"
      ],
      "execution_count": 0,
      "outputs": []
    },
    {
      "cell_type": "code",
      "metadata": {
        "id": "O_ur4ZQ_IVOn",
        "colab_type": "code",
        "outputId": "63ccfb05-3d03-4c1e-a2c9-e7473406e8f2",
        "colab": {
          "base_uri": "https://localhost:8080/",
          "height": 1000
        }
      },
      "source": [
        "!python3 main.py"
      ],
      "execution_count": 0,
      "outputs": [
        {
          "output_type": "stream",
          "text": [
            "Train Epoch: 1 Batch Number: 0 [0/15388713 (0%)]\tLoss: 4.996541\n",
            "Train Epoch: 1 Batch Number: 10000 [640000/15388713 (4%)]\tLoss: 2.709878\n",
            "Train Epoch: 1 Batch Number: 20000 [1280000/15388713 (8%)]\tLoss: 2.306566\n",
            "Train Epoch: 1 Batch Number: 30000 [1920000/15388713 (12%)]\tLoss: 2.627376\n",
            "Train Epoch: 1 Batch Number: 40000 [2560000/15388713 (17%)]\tLoss: 2.050214\n",
            "Train Epoch: 1 Batch Number: 50000 [3200000/15388713 (21%)]\tLoss: 2.463883\n",
            "Train Epoch: 1 Batch Number: 60000 [3840000/15388713 (25%)]\tLoss: 2.453106\n",
            "Train Epoch: 1 Batch Number: 70000 [4480000/15388713 (29%)]\tLoss: 1.842793\n",
            "Train Epoch: 1 Batch Number: 80000 [5120000/15388713 (33%)]\tLoss: 1.964121\n",
            "Train Epoch: 1 Batch Number: 90000 [5760000/15388713 (37%)]\tLoss: 2.162880\n",
            "Train Epoch: 1 Batch Number: 100000 [6400000/15388713 (42%)]\tLoss: 2.077538\n",
            "Train Epoch: 1 Batch Number: 110000 [7040000/15388713 (46%)]\tLoss: 2.243596\n",
            "Train Epoch: 1 Batch Number: 120000 [7680000/15388713 (50%)]\tLoss: 1.501658\n",
            "Train Epoch: 1 Batch Number: 130000 [8320000/15388713 (54%)]\tLoss: 1.881027\n",
            "Train Epoch: 1 Batch Number: 140000 [8960000/15388713 (58%)]\tLoss: 1.947789\n",
            "Train Epoch: 1 Batch Number: 150000 [9600000/15388713 (62%)]\tLoss: 2.245635\n",
            "Train Epoch: 1 Batch Number: 160000 [10240000/15388713 (67%)]\tLoss: 2.263584\n",
            "Train Epoch: 1 Batch Number: 170000 [10880000/15388713 (71%)]\tLoss: 2.357085\n",
            "Train Epoch: 1 Batch Number: 180000 [11520000/15388713 (75%)]\tLoss: 2.020055\n",
            "Train Epoch: 1 Batch Number: 190000 [12160000/15388713 (79%)]\tLoss: 1.678110\n",
            "Train Epoch: 1 Batch Number: 200000 [12800000/15388713 (83%)]\tLoss: 1.834056\n",
            "Train Epoch: 1 Batch Number: 210000 [13440000/15388713 (87%)]\tLoss: 2.115939\n",
            "Train Epoch: 1 Batch Number: 220000 [14080000/15388713 (91%)]\tLoss: 1.812808\n",
            "Train Epoch: 1 Batch Number: 230000 [14720000/15388713 (96%)]\tLoss: 2.173663\n",
            "Train Epoch: 1 Batch Number: 240000 [15360000/15388713 (100%)]\tLoss: 1.710587\n",
            "Training Loss:  2.033735030999549 Time:  2108.123754501343 s\n",
            "Testing Loss:  1.6927575517050697\n",
            "Testing Accuracy:  53.758456193514405 %\n",
            "====================\n",
            "Train Epoch: 2 Batch Number: 0 [0/15388713 (0%)]\tLoss: 1.517036\n",
            "Train Epoch: 2 Batch Number: 10000 [640000/15388713 (4%)]\tLoss: 2.002386\n",
            "Train Epoch: 2 Batch Number: 20000 [1280000/15388713 (8%)]\tLoss: 1.623907\n",
            "Train Epoch: 2 Batch Number: 30000 [1920000/15388713 (12%)]\tLoss: 2.054122\n",
            "Train Epoch: 2 Batch Number: 40000 [2560000/15388713 (17%)]\tLoss: 2.021705\n",
            "Train Epoch: 2 Batch Number: 50000 [3200000/15388713 (21%)]\tLoss: 2.153084\n",
            "Train Epoch: 2 Batch Number: 60000 [3840000/15388713 (25%)]\tLoss: 2.083229\n",
            "Train Epoch: 2 Batch Number: 70000 [4480000/15388713 (29%)]\tLoss: 1.869375\n",
            "Train Epoch: 2 Batch Number: 80000 [5120000/15388713 (33%)]\tLoss: 1.824410\n",
            "Train Epoch: 2 Batch Number: 90000 [5760000/15388713 (37%)]\tLoss: 1.347377\n",
            "Train Epoch: 2 Batch Number: 100000 [6400000/15388713 (42%)]\tLoss: 1.885153\n",
            "Train Epoch: 2 Batch Number: 110000 [7040000/15388713 (46%)]\tLoss: 1.803351\n",
            "Train Epoch: 2 Batch Number: 120000 [7680000/15388713 (50%)]\tLoss: 1.648383\n",
            "Train Epoch: 2 Batch Number: 130000 [8320000/15388713 (54%)]\tLoss: 1.858045\n",
            "Train Epoch: 2 Batch Number: 140000 [8960000/15388713 (58%)]\tLoss: 1.654001\n",
            "Train Epoch: 2 Batch Number: 150000 [9600000/15388713 (62%)]\tLoss: 1.605749\n",
            "Train Epoch: 2 Batch Number: 160000 [10240000/15388713 (67%)]\tLoss: 1.573287\n",
            "Train Epoch: 2 Batch Number: 170000 [10880000/15388713 (71%)]\tLoss: 1.724817\n",
            "Train Epoch: 2 Batch Number: 180000 [11520000/15388713 (75%)]\tLoss: 1.405016\n",
            "Train Epoch: 2 Batch Number: 190000 [12160000/15388713 (79%)]\tLoss: 1.870731\n",
            "Train Epoch: 2 Batch Number: 200000 [12800000/15388713 (83%)]\tLoss: 1.924535\n",
            "Train Epoch: 2 Batch Number: 210000 [13440000/15388713 (87%)]\tLoss: 1.868144\n",
            "Train Epoch: 2 Batch Number: 220000 [14080000/15388713 (91%)]\tLoss: 1.189250\n",
            "Train Epoch: 2 Batch Number: 230000 [14720000/15388713 (96%)]\tLoss: 1.711482\n",
            "Train Epoch: 2 Batch Number: 240000 [15360000/15388713 (100%)]\tLoss: 1.498319\n",
            "Training Loss:  1.7289473753947109 Time:  2098.5498859882355 s\n",
            "Testing Loss:  1.5893117395314302\n",
            "Testing Accuracy:  56.438100367544784 %\n",
            "====================\n",
            "Train Epoch: 3 Batch Number: 0 [0/15388713 (0%)]\tLoss: 1.839235\n",
            "Train Epoch: 3 Batch Number: 10000 [640000/15388713 (4%)]\tLoss: 1.317092\n",
            "Train Epoch: 3 Batch Number: 20000 [1280000/15388713 (8%)]\tLoss: 1.390972\n",
            "Train Epoch: 3 Batch Number: 30000 [1920000/15388713 (12%)]\tLoss: 1.485110\n",
            "Train Epoch: 3 Batch Number: 40000 [2560000/15388713 (17%)]\tLoss: 1.489811\n",
            "Train Epoch: 3 Batch Number: 50000 [3200000/15388713 (21%)]\tLoss: 1.951815\n",
            "Train Epoch: 3 Batch Number: 60000 [3840000/15388713 (25%)]\tLoss: 1.684754\n",
            "Train Epoch: 3 Batch Number: 70000 [4480000/15388713 (29%)]\tLoss: 1.293393\n",
            "Train Epoch: 3 Batch Number: 80000 [5120000/15388713 (33%)]\tLoss: 1.732458\n",
            "Train Epoch: 3 Batch Number: 90000 [5760000/15388713 (37%)]\tLoss: 1.764231\n",
            "Train Epoch: 3 Batch Number: 100000 [6400000/15388713 (42%)]\tLoss: 1.587718\n",
            "Train Epoch: 3 Batch Number: 110000 [7040000/15388713 (46%)]\tLoss: 2.144796\n",
            "Train Epoch: 3 Batch Number: 120000 [7680000/15388713 (50%)]\tLoss: 1.326996\n",
            "Train Epoch: 3 Batch Number: 130000 [8320000/15388713 (54%)]\tLoss: 1.557269\n",
            "Train Epoch: 3 Batch Number: 140000 [8960000/15388713 (58%)]\tLoss: 1.499823\n",
            "Train Epoch: 3 Batch Number: 150000 [9600000/15388713 (62%)]\tLoss: 1.432352\n",
            "Train Epoch: 3 Batch Number: 160000 [10240000/15388713 (67%)]\tLoss: 1.474933\n",
            "Train Epoch: 3 Batch Number: 170000 [10880000/15388713 (71%)]\tLoss: 1.776737\n",
            "Train Epoch: 3 Batch Number: 180000 [11520000/15388713 (75%)]\tLoss: 1.636360\n",
            "Train Epoch: 3 Batch Number: 190000 [12160000/15388713 (79%)]\tLoss: 1.687048\n",
            "Train Epoch: 3 Batch Number: 200000 [12800000/15388713 (83%)]\tLoss: 1.588099\n",
            "Train Epoch: 3 Batch Number: 210000 [13440000/15388713 (87%)]\tLoss: 1.933706\n",
            "Train Epoch: 3 Batch Number: 220000 [14080000/15388713 (91%)]\tLoss: 1.544834\n",
            "Train Epoch: 3 Batch Number: 230000 [14720000/15388713 (96%)]\tLoss: 1.811462\n",
            "Train Epoch: 3 Batch Number: 240000 [15360000/15388713 (100%)]\tLoss: 1.667684\n",
            "Training Loss:  1.632176224596678 Time:  2111.8552503585815 s\n",
            "Testing Loss:  1.5026720190082083\n",
            "Testing Accuracy:  58.72667333495109 %\n",
            "====================\n",
            "Train Epoch: 4 Batch Number: 0 [0/15388713 (0%)]\tLoss: 2.150959\n",
            "Train Epoch: 4 Batch Number: 10000 [640000/15388713 (4%)]\tLoss: 1.607872\n",
            "Train Epoch: 4 Batch Number: 20000 [1280000/15388713 (8%)]\tLoss: 1.362734\n",
            "Train Epoch: 4 Batch Number: 30000 [1920000/15388713 (12%)]\tLoss: 1.466848\n",
            "Train Epoch: 4 Batch Number: 40000 [2560000/15388713 (17%)]\tLoss: 1.650216\n",
            "Train Epoch: 4 Batch Number: 50000 [3200000/15388713 (21%)]\tLoss: 1.829402\n",
            "Train Epoch: 4 Batch Number: 60000 [3840000/15388713 (25%)]\tLoss: 1.325780\n",
            "Train Epoch: 4 Batch Number: 70000 [4480000/15388713 (29%)]\tLoss: 1.634438\n",
            "Train Epoch: 4 Batch Number: 80000 [5120000/15388713 (33%)]\tLoss: 1.499044\n",
            "Train Epoch: 4 Batch Number: 90000 [5760000/15388713 (37%)]\tLoss: 1.893315\n",
            "Train Epoch: 4 Batch Number: 100000 [6400000/15388713 (42%)]\tLoss: 1.236227\n",
            "Train Epoch: 4 Batch Number: 110000 [7040000/15388713 (46%)]\tLoss: 1.497988\n",
            "Train Epoch: 4 Batch Number: 120000 [7680000/15388713 (50%)]\tLoss: 1.607867\n",
            "Train Epoch: 4 Batch Number: 130000 [8320000/15388713 (54%)]\tLoss: 1.481790\n",
            "Train Epoch: 4 Batch Number: 140000 [8960000/15388713 (58%)]\tLoss: 1.713646\n",
            "Train Epoch: 4 Batch Number: 150000 [9600000/15388713 (62%)]\tLoss: 1.799288\n",
            "Train Epoch: 4 Batch Number: 160000 [10240000/15388713 (67%)]\tLoss: 1.545025\n",
            "Train Epoch: 4 Batch Number: 170000 [10880000/15388713 (71%)]\tLoss: 1.165484\n",
            "Train Epoch: 4 Batch Number: 180000 [11520000/15388713 (75%)]\tLoss: 1.688893\n",
            "Train Epoch: 4 Batch Number: 190000 [12160000/15388713 (79%)]\tLoss: 1.246065\n",
            "Train Epoch: 4 Batch Number: 200000 [12800000/15388713 (83%)]\tLoss: 1.967841\n",
            "Train Epoch: 4 Batch Number: 210000 [13440000/15388713 (87%)]\tLoss: 1.657187\n",
            "Train Epoch: 4 Batch Number: 220000 [14080000/15388713 (91%)]\tLoss: 2.015248\n",
            "Train Epoch: 4 Batch Number: 230000 [14720000/15388713 (96%)]\tLoss: 1.759207\n",
            "Train Epoch: 4 Batch Number: 240000 [15360000/15388713 (100%)]\tLoss: 1.228418\n",
            "Training Loss:  1.5739626097408146 Time:  2106.506947517395 s\n",
            "Testing Loss:  1.4813377071002667\n",
            "Testing Accuracy:  59.34353896507437 %\n",
            "====================\n",
            "Train Epoch: 5 Batch Number: 0 [0/15388713 (0%)]\tLoss: 1.195445\n",
            "Train Epoch: 5 Batch Number: 10000 [640000/15388713 (4%)]\tLoss: 1.201151\n",
            "Train Epoch: 5 Batch Number: 20000 [1280000/15388713 (8%)]\tLoss: 1.424839\n",
            "Train Epoch: 5 Batch Number: 30000 [1920000/15388713 (12%)]\tLoss: 1.763502\n",
            "Train Epoch: 5 Batch Number: 40000 [2560000/15388713 (17%)]\tLoss: 1.537090\n",
            "Train Epoch: 5 Batch Number: 50000 [3200000/15388713 (21%)]\tLoss: 1.961753\n",
            "Train Epoch: 5 Batch Number: 60000 [3840000/15388713 (25%)]\tLoss: 1.740480\n",
            "Train Epoch: 5 Batch Number: 70000 [4480000/15388713 (29%)]\tLoss: 1.705958\n",
            "Train Epoch: 5 Batch Number: 80000 [5120000/15388713 (33%)]\tLoss: 1.666986\n",
            "Train Epoch: 5 Batch Number: 90000 [5760000/15388713 (37%)]\tLoss: 1.408056\n",
            "Train Epoch: 5 Batch Number: 100000 [6400000/15388713 (42%)]\tLoss: 1.441361\n",
            "Train Epoch: 5 Batch Number: 110000 [7040000/15388713 (46%)]\tLoss: 1.401951\n",
            "Train Epoch: 5 Batch Number: 120000 [7680000/15388713 (50%)]\tLoss: 1.617193\n",
            "Train Epoch: 5 Batch Number: 130000 [8320000/15388713 (54%)]\tLoss: 1.617731\n",
            "Train Epoch: 5 Batch Number: 140000 [8960000/15388713 (58%)]\tLoss: 1.486947\n",
            "Train Epoch: 5 Batch Number: 150000 [9600000/15388713 (62%)]\tLoss: 1.572697\n",
            "Train Epoch: 5 Batch Number: 160000 [10240000/15388713 (67%)]\tLoss: 0.895980\n",
            "Train Epoch: 5 Batch Number: 170000 [10880000/15388713 (71%)]\tLoss: 1.366805\n",
            "Train Epoch: 5 Batch Number: 180000 [11520000/15388713 (75%)]\tLoss: 1.307848\n",
            "Train Epoch: 5 Batch Number: 190000 [12160000/15388713 (79%)]\tLoss: 1.517379\n",
            "Train Epoch: 5 Batch Number: 200000 [12800000/15388713 (83%)]\tLoss: 1.549545\n",
            "Train Epoch: 5 Batch Number: 210000 [13440000/15388713 (87%)]\tLoss: 1.555256\n",
            "Train Epoch: 5 Batch Number: 220000 [14080000/15388713 (91%)]\tLoss: 1.477663\n",
            "Train Epoch: 5 Batch Number: 230000 [14720000/15388713 (96%)]\tLoss: 1.390188\n",
            "Train Epoch: 5 Batch Number: 240000 [15360000/15388713 (100%)]\tLoss: 1.592901\n",
            "Training Loss:  1.5323099384354009 Time:  2119.048376083374 s\n",
            "Testing Loss:  1.4588766268031164\n",
            "Testing Accuracy:  59.895891902769314 %\n",
            "====================\n",
            "Train Epoch: 6 Batch Number: 0 [0/15388713 (0%)]\tLoss: 1.369410\n",
            "Train Epoch: 6 Batch Number: 10000 [640000/15388713 (4%)]\tLoss: 1.655912\n",
            "Train Epoch: 6 Batch Number: 20000 [1280000/15388713 (8%)]\tLoss: 1.283303\n",
            "Train Epoch: 6 Batch Number: 30000 [1920000/15388713 (12%)]\tLoss: 1.612084\n",
            "Train Epoch: 6 Batch Number: 40000 [2560000/15388713 (17%)]\tLoss: 1.899311\n",
            "Train Epoch: 6 Batch Number: 50000 [3200000/15388713 (21%)]\tLoss: 1.540521\n",
            "Train Epoch: 6 Batch Number: 60000 [3840000/15388713 (25%)]\tLoss: 1.763152\n",
            "Train Epoch: 6 Batch Number: 70000 [4480000/15388713 (29%)]\tLoss: 1.347628\n",
            "Train Epoch: 6 Batch Number: 80000 [5120000/15388713 (33%)]\tLoss: 1.342386\n",
            "Train Epoch: 6 Batch Number: 90000 [5760000/15388713 (37%)]\tLoss: 1.653613\n",
            "Train Epoch: 6 Batch Number: 100000 [6400000/15388713 (42%)]\tLoss: 1.547853\n",
            "Train Epoch: 6 Batch Number: 110000 [7040000/15388713 (46%)]\tLoss: 1.655761\n",
            "Train Epoch: 6 Batch Number: 120000 [7680000/15388713 (50%)]\tLoss: 1.229052\n",
            "Train Epoch: 6 Batch Number: 130000 [8320000/15388713 (54%)]\tLoss: 1.568447\n",
            "Train Epoch: 6 Batch Number: 140000 [8960000/15388713 (58%)]\tLoss: 1.819837\n",
            "Train Epoch: 6 Batch Number: 150000 [9600000/15388713 (62%)]\tLoss: 1.441551\n",
            "Train Epoch: 6 Batch Number: 160000 [10240000/15388713 (67%)]\tLoss: 1.492581\n",
            "Train Epoch: 6 Batch Number: 170000 [10880000/15388713 (71%)]\tLoss: 1.168254\n",
            "Train Epoch: 6 Batch Number: 180000 [11520000/15388713 (75%)]\tLoss: 1.467233\n",
            "Train Epoch: 6 Batch Number: 190000 [12160000/15388713 (79%)]\tLoss: 1.633990\n",
            "Train Epoch: 6 Batch Number: 200000 [12800000/15388713 (83%)]\tLoss: 1.647757\n",
            "Train Epoch: 6 Batch Number: 210000 [13440000/15388713 (87%)]\tLoss: 1.626416\n",
            "Train Epoch: 6 Batch Number: 220000 [14080000/15388713 (91%)]\tLoss: 1.518102\n",
            "Train Epoch: 6 Batch Number: 230000 [14720000/15388713 (96%)]\tLoss: 1.378344\n",
            "Train Epoch: 6 Batch Number: 240000 [15360000/15388713 (100%)]\tLoss: 1.286310\n",
            "Training Loss:  1.4997366749226808 Time:  2116.720526456833 s\n",
            "Testing Loss:  1.4454590800472282\n",
            "Testing Accuracy:  60.29362152948349 %\n",
            "====================\n",
            "Train Epoch: 7 Batch Number: 0 [0/15388713 (0%)]\tLoss: 1.390021\n",
            "Train Epoch: 7 Batch Number: 10000 [640000/15388713 (4%)]\tLoss: 1.559007\n",
            "Train Epoch: 7 Batch Number: 20000 [1280000/15388713 (8%)]\tLoss: 1.497383\n",
            "Train Epoch: 7 Batch Number: 30000 [1920000/15388713 (12%)]\tLoss: 1.314445\n",
            "Train Epoch: 7 Batch Number: 40000 [2560000/15388713 (17%)]\tLoss: 1.675752\n",
            "Train Epoch: 7 Batch Number: 50000 [3200000/15388713 (21%)]\tLoss: 1.366575\n",
            "Train Epoch: 7 Batch Number: 60000 [3840000/15388713 (25%)]\tLoss: 1.448334\n",
            "Train Epoch: 7 Batch Number: 70000 [4480000/15388713 (29%)]\tLoss: 1.455721\n",
            "Train Epoch: 7 Batch Number: 80000 [5120000/15388713 (33%)]\tLoss: 1.575406\n",
            "Train Epoch: 7 Batch Number: 90000 [5760000/15388713 (37%)]\tLoss: 1.342170\n",
            "Train Epoch: 7 Batch Number: 100000 [6400000/15388713 (42%)]\tLoss: 0.872628\n",
            "Train Epoch: 7 Batch Number: 110000 [7040000/15388713 (46%)]\tLoss: 1.709528\n",
            "Train Epoch: 7 Batch Number: 120000 [7680000/15388713 (50%)]\tLoss: 1.599857\n",
            "Train Epoch: 7 Batch Number: 130000 [8320000/15388713 (54%)]\tLoss: 1.479571\n",
            "Train Epoch: 7 Batch Number: 140000 [8960000/15388713 (58%)]\tLoss: 1.082674\n",
            "Train Epoch: 7 Batch Number: 150000 [9600000/15388713 (62%)]\tLoss: 1.447962\n",
            "Train Epoch: 7 Batch Number: 160000 [10240000/15388713 (67%)]\tLoss: 0.859861\n",
            "Train Epoch: 7 Batch Number: 170000 [10880000/15388713 (71%)]\tLoss: 1.157129\n",
            "Train Epoch: 7 Batch Number: 180000 [11520000/15388713 (75%)]\tLoss: 1.428547\n",
            "Train Epoch: 7 Batch Number: 190000 [12160000/15388713 (79%)]\tLoss: 1.402336\n",
            "Train Epoch: 7 Batch Number: 200000 [12800000/15388713 (83%)]\tLoss: 1.514472\n",
            "Train Epoch: 7 Batch Number: 210000 [13440000/15388713 (87%)]\tLoss: 1.124563\n",
            "Train Epoch: 7 Batch Number: 220000 [14080000/15388713 (91%)]\tLoss: 1.074074\n",
            "Train Epoch: 7 Batch Number: 230000 [14720000/15388713 (96%)]\tLoss: 1.218293\n",
            "Train Epoch: 7 Batch Number: 240000 [15360000/15388713 (100%)]\tLoss: 1.377005\n",
            "Training Loss:  1.4727767814968655 Time:  2133.5061869621277 s\n",
            "Testing Loss:  1.4292173528592242\n",
            "Testing Accuracy:  60.80010535100231 %\n",
            "====================\n",
            "Train Epoch: 8 Batch Number: 0 [0/15388713 (0%)]\tLoss: 1.325196\n",
            "Train Epoch: 8 Batch Number: 10000 [640000/15388713 (4%)]\tLoss: 1.588415\n",
            "Train Epoch: 8 Batch Number: 20000 [1280000/15388713 (8%)]\tLoss: 1.486005\n",
            "Train Epoch: 8 Batch Number: 30000 [1920000/15388713 (12%)]\tLoss: 1.265863\n",
            "Train Epoch: 8 Batch Number: 40000 [2560000/15388713 (17%)]\tLoss: 1.384602\n",
            "Train Epoch: 8 Batch Number: 50000 [3200000/15388713 (21%)]\tLoss: 1.649134\n",
            "Train Epoch: 8 Batch Number: 60000 [3840000/15388713 (25%)]\tLoss: 1.338500\n",
            "Train Epoch: 8 Batch Number: 70000 [4480000/15388713 (29%)]\tLoss: 1.411312\n",
            "Train Epoch: 8 Batch Number: 80000 [5120000/15388713 (33%)]\tLoss: 1.258103\n",
            "Train Epoch: 8 Batch Number: 90000 [5760000/15388713 (37%)]\tLoss: 1.129845\n",
            "Train Epoch: 8 Batch Number: 100000 [6400000/15388713 (42%)]\tLoss: 1.795021\n",
            "Train Epoch: 8 Batch Number: 110000 [7040000/15388713 (46%)]\tLoss: 1.385398\n",
            "Train Epoch: 8 Batch Number: 120000 [7680000/15388713 (50%)]\tLoss: 1.480506\n",
            "Train Epoch: 8 Batch Number: 130000 [8320000/15388713 (54%)]\tLoss: 1.682037\n",
            "Train Epoch: 8 Batch Number: 140000 [8960000/15388713 (58%)]\tLoss: 1.213341\n",
            "Train Epoch: 8 Batch Number: 150000 [9600000/15388713 (62%)]\tLoss: 1.406663\n",
            "Train Epoch: 8 Batch Number: 160000 [10240000/15388713 (67%)]\tLoss: 1.703869\n",
            "Train Epoch: 8 Batch Number: 170000 [10880000/15388713 (71%)]\tLoss: 1.257347\n",
            "Train Epoch: 8 Batch Number: 180000 [11520000/15388713 (75%)]\tLoss: 1.562982\n",
            "Train Epoch: 8 Batch Number: 190000 [12160000/15388713 (79%)]\tLoss: 1.405648\n",
            "Train Epoch: 8 Batch Number: 200000 [12800000/15388713 (83%)]\tLoss: 1.467373\n",
            "Train Epoch: 8 Batch Number: 210000 [13440000/15388713 (87%)]\tLoss: 1.944918\n",
            "Train Epoch: 8 Batch Number: 220000 [14080000/15388713 (91%)]\tLoss: 1.545817\n",
            "Train Epoch: 8 Batch Number: 230000 [14720000/15388713 (96%)]\tLoss: 1.583308\n",
            "Train Epoch: 8 Batch Number: 240000 [15360000/15388713 (100%)]\tLoss: 1.478988\n",
            "Training Loss:  1.45024737534378 Time:  2101.5912702083588 s\n",
            "Testing Loss:  1.4055675188643915\n",
            "Testing Accuracy:  61.39595996661912 %\n",
            "====================\n",
            "Train Epoch: 9 Batch Number: 0 [0/15388713 (0%)]\tLoss: 1.361949\n",
            "Train Epoch: 9 Batch Number: 10000 [640000/15388713 (4%)]\tLoss: 1.094910\n",
            "Train Epoch: 9 Batch Number: 20000 [1280000/15388713 (8%)]\tLoss: 1.584330\n",
            "Train Epoch: 9 Batch Number: 30000 [1920000/15388713 (12%)]\tLoss: 1.895885\n",
            "Train Epoch: 9 Batch Number: 40000 [2560000/15388713 (17%)]\tLoss: 1.519566\n",
            "Train Epoch: 9 Batch Number: 50000 [3200000/15388713 (21%)]\tLoss: 1.277493\n",
            "Train Epoch: 9 Batch Number: 60000 [3840000/15388713 (25%)]\tLoss: 1.304185\n",
            "Train Epoch: 9 Batch Number: 70000 [4480000/15388713 (29%)]\tLoss: 1.577581\n",
            "Train Epoch: 9 Batch Number: 80000 [5120000/15388713 (33%)]\tLoss: 1.181263\n",
            "Train Epoch: 9 Batch Number: 90000 [5760000/15388713 (37%)]\tLoss: 0.964070\n",
            "Train Epoch: 9 Batch Number: 100000 [6400000/15388713 (42%)]\tLoss: 1.948879\n",
            "Train Epoch: 9 Batch Number: 110000 [7040000/15388713 (46%)]\tLoss: 1.477390\n",
            "Train Epoch: 9 Batch Number: 120000 [7680000/15388713 (50%)]\tLoss: 1.155993\n",
            "Train Epoch: 9 Batch Number: 130000 [8320000/15388713 (54%)]\tLoss: 1.076543\n",
            "Train Epoch: 9 Batch Number: 140000 [8960000/15388713 (58%)]\tLoss: 1.701009\n",
            "Train Epoch: 9 Batch Number: 150000 [9600000/15388713 (62%)]\tLoss: 1.579521\n",
            "Train Epoch: 9 Batch Number: 160000 [10240000/15388713 (67%)]\tLoss: 1.366358\n",
            "Train Epoch: 9 Batch Number: 170000 [10880000/15388713 (71%)]\tLoss: 1.341012\n",
            "Train Epoch: 9 Batch Number: 180000 [11520000/15388713 (75%)]\tLoss: 1.344291\n",
            "Train Epoch: 9 Batch Number: 190000 [12160000/15388713 (79%)]\tLoss: 1.241030\n",
            "Train Epoch: 9 Batch Number: 200000 [12800000/15388713 (83%)]\tLoss: 1.569502\n",
            "Train Epoch: 9 Batch Number: 210000 [13440000/15388713 (87%)]\tLoss: 1.049796\n",
            "Train Epoch: 9 Batch Number: 220000 [14080000/15388713 (91%)]\tLoss: 1.460630\n",
            "Train Epoch: 9 Batch Number: 230000 [14720000/15388713 (96%)]\tLoss: 1.122753\n",
            "Train Epoch: 9 Batch Number: 240000 [15360000/15388713 (100%)]\tLoss: 1.363073\n",
            "Training Loss:  1.4303882629158569 Time:  2076.444130420685 s\n",
            "Testing Loss:  1.4051040607137661\n",
            "Testing Accuracy:  61.51773507182215 %\n",
            "====================\n",
            "Train Epoch: 10 Batch Number: 0 [0/15388713 (0%)]\tLoss: 1.534356\n",
            "Train Epoch: 10 Batch Number: 10000 [640000/15388713 (4%)]\tLoss: 1.077642\n",
            "Train Epoch: 10 Batch Number: 20000 [1280000/15388713 (8%)]\tLoss: 1.043282\n",
            "Train Epoch: 10 Batch Number: 30000 [1920000/15388713 (12%)]\tLoss: 1.287514\n",
            "Train Epoch: 10 Batch Number: 40000 [2560000/15388713 (17%)]\tLoss: 1.341643\n",
            "Train Epoch: 10 Batch Number: 50000 [3200000/15388713 (21%)]\tLoss: 1.535753\n",
            "Train Epoch: 10 Batch Number: 60000 [3840000/15388713 (25%)]\tLoss: 1.398953\n",
            "Train Epoch: 10 Batch Number: 70000 [4480000/15388713 (29%)]\tLoss: 1.453654\n",
            "Train Epoch: 10 Batch Number: 80000 [5120000/15388713 (33%)]\tLoss: 1.144788\n",
            "Train Epoch: 10 Batch Number: 90000 [5760000/15388713 (37%)]\tLoss: 1.301941\n",
            "Train Epoch: 10 Batch Number: 100000 [6400000/15388713 (42%)]\tLoss: 1.923439\n",
            "Train Epoch: 10 Batch Number: 110000 [7040000/15388713 (46%)]\tLoss: 1.330877\n",
            "Train Epoch: 10 Batch Number: 120000 [7680000/15388713 (50%)]\tLoss: 1.179979\n",
            "Train Epoch: 10 Batch Number: 130000 [8320000/15388713 (54%)]\tLoss: 2.067427\n",
            "Train Epoch: 10 Batch Number: 140000 [8960000/15388713 (58%)]\tLoss: 1.688452\n",
            "Train Epoch: 10 Batch Number: 150000 [9600000/15388713 (62%)]\tLoss: 1.197032\n",
            "Train Epoch: 10 Batch Number: 160000 [10240000/15388713 (67%)]\tLoss: 1.655893\n",
            "Train Epoch: 10 Batch Number: 170000 [10880000/15388713 (71%)]\tLoss: 1.268219\n",
            "Train Epoch: 10 Batch Number: 180000 [11520000/15388713 (75%)]\tLoss: 1.545096\n",
            "Train Epoch: 10 Batch Number: 190000 [12160000/15388713 (79%)]\tLoss: 1.335672\n",
            "Train Epoch: 10 Batch Number: 200000 [12800000/15388713 (83%)]\tLoss: 1.325497\n",
            "Train Epoch: 10 Batch Number: 210000 [13440000/15388713 (87%)]\tLoss: 1.425380\n",
            "Train Epoch: 10 Batch Number: 220000 [14080000/15388713 (91%)]\tLoss: 1.084401\n",
            "Train Epoch: 10 Batch Number: 230000 [14720000/15388713 (96%)]\tLoss: 1.029969\n",
            "Train Epoch: 10 Batch Number: 240000 [15360000/15388713 (100%)]\tLoss: 1.343534\n",
            "Training Loss:  1.4129390107682993 Time:  2050.631504058838 s\n",
            "Testing Loss:  1.4013400818588155\n",
            "Testing Accuracy:  61.672506347693826 %\n",
            "====================\n",
            "Traceback (most recent call last):\n",
            "  File \"main.py\", line 228, in <module>\n",
            "    main()\n",
            "  File \"main.py\", line 226, in main\n",
            "    np.savetxt('Kaggle_Submission2_HW1.csv', np.c_[columns, predictions_final], delimiter=',', fmt='%d', header=\"id,label\", comments='')\n",
            "UnboundLocalError: local variable 'columns' referenced before assignment\n"
          ],
          "name": "stdout"
        }
      ]
    },
    {
      "cell_type": "code",
      "metadata": {
        "id": "pxb9wllbzDkx",
        "colab_type": "code",
        "colab": {}
      },
      "source": [
        ""
      ],
      "execution_count": 0,
      "outputs": []
    }
  ]
}